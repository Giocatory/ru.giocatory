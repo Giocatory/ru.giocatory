{
 "cells": [
  {
   "cell_type": "code",
   "execution_count": 5,
   "metadata": {},
   "outputs": [],
   "source": [
    "import os\n",
    "\n",
    "with open(\"folder_tree.txt\", \"a\") as f:\n",
    "\n",
    "    for dirname, dirnames, filenames in os.walk('C:/Projects/ru.giocatory'):\n",
    "        # print path to all subdirectories first.\n",
    "        for subdirname in dirnames:\n",
    "            f.write(os.path.join(dirname, subdirname))\n",
    "            f.write(\"\\n\")\n",
    "\n",
    "        # print path to all filenames.\n",
    "        for filename in filenames:\n",
    "            f.write(os.path.join(dirname, filename))\n",
    "            f.write(\"\\n\")\n",
    "\n",
    "        # Advanced usage:\n",
    "        # editing the 'dirnames' list will stop os.walk() from recursing into there.\n",
    "        if '.git' in dirnames:\n",
    "            # don't go into any .git directories.\n",
    "            dirnames.remove('.git')"
   ]
  }
 ],
 "metadata": {
  "kernelspec": {
   "display_name": "Python 3",
   "language": "python",
   "name": "python3"
  },
  "language_info": {
   "codemirror_mode": {
    "name": "ipython",
    "version": 3
   },
   "file_extension": ".py",
   "mimetype": "text/x-python",
   "name": "python",
   "nbconvert_exporter": "python",
   "pygments_lexer": "ipython3",
   "version": "3.12.8"
  }
 },
 "nbformat": 4,
 "nbformat_minor": 2
}
